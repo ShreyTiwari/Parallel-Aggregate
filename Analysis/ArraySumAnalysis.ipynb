{
 "cells": [
  {
   "cell_type": "markdown",
   "id": "816d43c1",
   "metadata": {},
   "source": [
    "# Analysis of Array Sum Code\n",
    "\n",
    "In this file we analyse the results obtained from the tests run using the ArraySum.cpp file. Multiple tests were run by changing the values of: <br />\n",
    "<ul>\n",
    "<li>Input Size (N): [1000k, 2000k, 4000k]</li>\n",
    "<li>Parallelization Factor (K): [1, 2, 4, 8]</li>\n",
    "</ul>\n",
    "\n",
    "The data is recorded in a data set. The columns of the dataset are:\n",
    "<ul>\n",
    "  <li>Input Size: <b>N</b></li>\n",
    "  <li>Parallelization Factor: <b>K</b></li>\n",
    "  <li>Time Taken by Approach 1: <b>T1</b></li>\n",
    "  <li>Time Taken by Approach 2: <b>T2</b></li>\n",
    "</ul> "
   ]
  },
  {
   "cell_type": "code",
   "execution_count": null,
   "id": "ad95d488",
   "metadata": {},
   "outputs": [],
   "source": []
  }
 ],
 "metadata": {
  "kernelspec": {
   "display_name": "Python 3",
   "language": "python",
   "name": "python3"
  },
  "language_info": {
   "codemirror_mode": {
    "name": "ipython",
    "version": 3
   },
   "file_extension": ".py",
   "mimetype": "text/x-python",
   "name": "python",
   "nbconvert_exporter": "python",
   "pygments_lexer": "ipython3",
   "version": "3.9.4"
  }
 },
 "nbformat": 4,
 "nbformat_minor": 5
}
